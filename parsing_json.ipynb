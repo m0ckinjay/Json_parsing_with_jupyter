{
 "cells": [
  {
   "cell_type": "code",
   "execution_count": 2,
   "id": "ed116d3b-5f06-4a10-a0de-c48329bd8271",
   "metadata": {
    "tags": []
   },
   "outputs": [],
   "source": [
    "import pandas as pd"
   ]
  },
  {
   "cell_type": "code",
   "execution_count": 7,
   "id": "f20481f0-443e-49dd-81ca-e66618ec1ea1",
   "metadata": {
    "tags": []
   },
   "outputs": [],
   "source": [
    "#reading level json is simple\n",
    "df = pd.read_json('level.json')"
   ]
  },
  {
   "cell_type": "code",
   "execution_count": 8,
   "id": "51cbaafb-a72b-46db-b56d-2a4f8016008b",
   "metadata": {
    "tags": []
   },
   "outputs": [
    {
     "data": {
      "text/html": [
       "<div>\n",
       "<style scoped>\n",
       "    .dataframe tbody tr th:only-of-type {\n",
       "        vertical-align: middle;\n",
       "    }\n",
       "\n",
       "    .dataframe tbody tr th {\n",
       "        vertical-align: top;\n",
       "    }\n",
       "\n",
       "    .dataframe thead th {\n",
       "        text-align: right;\n",
       "    }\n",
       "</style>\n",
       "<table border=\"1\" class=\"dataframe\">\n",
       "  <thead>\n",
       "    <tr style=\"text-align: right;\">\n",
       "      <th></th>\n",
       "      <th>Scaler</th>\n",
       "      <th>family_min_samples_percentage</th>\n",
       "      <th>original_number_of_clusters</th>\n",
       "      <th>eps_value</th>\n",
       "      <th>min_samples</th>\n",
       "      <th>number_of_clusters</th>\n",
       "      <th>number_of_noise_samples</th>\n",
       "      <th>adjusted_rand_index</th>\n",
       "      <th>adjusted_mutual_info_score</th>\n",
       "      <th>homogeneity_score</th>\n",
       "      <th>completeness_score</th>\n",
       "      <th>v_measure_score</th>\n",
       "      <th>fowlkes_mallows_score</th>\n",
       "      <th>silhouette_coefficient</th>\n",
       "      <th>calinski_harabasz_score</th>\n",
       "      <th>davies_bouldin_score</th>\n",
       "    </tr>\n",
       "  </thead>\n",
       "  <tbody>\n",
       "    <tr>\n",
       "      <th>0</th>\n",
       "      <td>Standard</td>\n",
       "      <td>5</td>\n",
       "      <td>4</td>\n",
       "      <td>0.1</td>\n",
       "      <td>5</td>\n",
       "      <td>9</td>\n",
       "      <td>72</td>\n",
       "      <td>0.001000</td>\n",
       "      <td>0.009000</td>\n",
       "      <td>0.330000</td>\n",
       "      <td>0.999</td>\n",
       "      <td>0.497000</td>\n",
       "      <td>0.02820</td>\n",
       "      <td>0.653000</td>\n",
       "      <td>10.810000</td>\n",
       "      <td>1.700000</td>\n",
       "    </tr>\n",
       "    <tr>\n",
       "      <th>1</th>\n",
       "      <td>Standard</td>\n",
       "      <td>5</td>\n",
       "      <td>4</td>\n",
       "      <td>0.1</td>\n",
       "      <td>10</td>\n",
       "      <td>6</td>\n",
       "      <td>89</td>\n",
       "      <td>0.001085</td>\n",
       "      <td>0.008123</td>\n",
       "      <td>0.294885</td>\n",
       "      <td>1.000</td>\n",
       "      <td>0.455461</td>\n",
       "      <td>0.02636</td>\n",
       "      <td>0.558529</td>\n",
       "      <td>12.528465</td>\n",
       "      <td>1.760859</td>\n",
       "    </tr>\n",
       "  </tbody>\n",
       "</table>\n",
       "</div>"
      ],
      "text/plain": [
       "     Scaler  family_min_samples_percentage  original_number_of_clusters  \\\n",
       "0  Standard                              5                            4   \n",
       "1  Standard                              5                            4   \n",
       "\n",
       "   eps_value  min_samples  number_of_clusters  number_of_noise_samples  \\\n",
       "0        0.1            5                   9                       72   \n",
       "1        0.1           10                   6                       89   \n",
       "\n",
       "   adjusted_rand_index  adjusted_mutual_info_score  homogeneity_score  \\\n",
       "0             0.001000                    0.009000           0.330000   \n",
       "1             0.001085                    0.008123           0.294885   \n",
       "\n",
       "   completeness_score  v_measure_score  fowlkes_mallows_score  \\\n",
       "0               0.999         0.497000                0.02820   \n",
       "1               1.000         0.455461                0.02636   \n",
       "\n",
       "   silhouette_coefficient  calinski_harabasz_score  davies_bouldin_score  \n",
       "0                0.653000                10.810000              1.700000  \n",
       "1                0.558529                12.528465              1.760859  "
      ]
     },
     "execution_count": 8,
     "metadata": {},
     "output_type": "execute_result"
    }
   ],
   "source": [
    "df"
   ]
  },
  {
   "cell_type": "code",
   "execution_count": 9,
   "id": "cf27d40b-ccf2-4733-b3ca-df1a69f1f9ca",
   "metadata": {
    "tags": []
   },
   "outputs": [],
   "source": [
    "#multi - level (Nested) json\n",
    "df2 = pd.read_json('nested.json')"
   ]
  },
  {
   "cell_type": "code",
   "execution_count": 10,
   "id": "cca4be4d-6574-4624-b90e-d054f53f5ec9",
   "metadata": {
    "tags": []
   },
   "outputs": [
    {
     "data": {
      "text/html": [
       "<div>\n",
       "<style scoped>\n",
       "    .dataframe tbody tr th:only-of-type {\n",
       "        vertical-align: middle;\n",
       "    }\n",
       "\n",
       "    .dataframe tbody tr th {\n",
       "        vertical-align: top;\n",
       "    }\n",
       "\n",
       "    .dataframe thead th {\n",
       "        text-align: right;\n",
       "    }\n",
       "</style>\n",
       "<table border=\"1\" class=\"dataframe\">\n",
       "  <thead>\n",
       "    <tr style=\"text-align: right;\">\n",
       "      <th></th>\n",
       "      <th>Scaler</th>\n",
       "      <th>family_min_samples_percentage</th>\n",
       "      <th>original_number_of_clusters</th>\n",
       "      <th>Results</th>\n",
       "    </tr>\n",
       "  </thead>\n",
       "  <tbody>\n",
       "    <tr>\n",
       "      <th>0</th>\n",
       "      <td>Standard</td>\n",
       "      <td>5</td>\n",
       "      <td>4</td>\n",
       "      <td>[{'eps_value': 0.1, 'min_samples': 5, 'number_...</td>\n",
       "    </tr>\n",
       "    <tr>\n",
       "      <th>1</th>\n",
       "      <td>MinMax</td>\n",
       "      <td>5</td>\n",
       "      <td>4</td>\n",
       "      <td>[{'eps_value': 0.1, 'min_samples': 5, 'number_...</td>\n",
       "    </tr>\n",
       "    <tr>\n",
       "      <th>2</th>\n",
       "      <td>Robust</td>\n",
       "      <td>5</td>\n",
       "      <td>4</td>\n",
       "      <td>[{'eps_value': 0.1, 'min_samples': 5, 'number_...</td>\n",
       "    </tr>\n",
       "    <tr>\n",
       "      <th>3</th>\n",
       "      <td>Standard</td>\n",
       "      <td>10</td>\n",
       "      <td>2</td>\n",
       "      <td>[{'eps_value': 0.1, 'min_samples': 5, 'number_...</td>\n",
       "    </tr>\n",
       "    <tr>\n",
       "      <th>4</th>\n",
       "      <td>MinMax</td>\n",
       "      <td>10</td>\n",
       "      <td>2</td>\n",
       "      <td>[{'eps_value': 0.1, 'min_samples': 5, 'number_...</td>\n",
       "    </tr>\n",
       "    <tr>\n",
       "      <th>5</th>\n",
       "      <td>Robust</td>\n",
       "      <td>10</td>\n",
       "      <td>2</td>\n",
       "      <td>[{'eps_value': 0.1, 'min_samples': 5, 'number_...</td>\n",
       "    </tr>\n",
       "  </tbody>\n",
       "</table>\n",
       "</div>"
      ],
      "text/plain": [
       "     Scaler  family_min_samples_percentage  original_number_of_clusters  \\\n",
       "0  Standard                              5                            4   \n",
       "1    MinMax                              5                            4   \n",
       "2    Robust                              5                            4   \n",
       "3  Standard                             10                            2   \n",
       "4    MinMax                             10                            2   \n",
       "5    Robust                             10                            2   \n",
       "\n",
       "                                             Results  \n",
       "0  [{'eps_value': 0.1, 'min_samples': 5, 'number_...  \n",
       "1  [{'eps_value': 0.1, 'min_samples': 5, 'number_...  \n",
       "2  [{'eps_value': 0.1, 'min_samples': 5, 'number_...  \n",
       "3  [{'eps_value': 0.1, 'min_samples': 5, 'number_...  \n",
       "4  [{'eps_value': 0.1, 'min_samples': 5, 'number_...  \n",
       "5  [{'eps_value': 0.1, 'min_samples': 5, 'number_...  "
      ]
     },
     "execution_count": 10,
     "metadata": {},
     "output_type": "execute_result"
    }
   ],
   "source": [
    "df2"
   ]
  },
  {
   "cell_type": "code",
   "execution_count": 17,
   "id": "7609d0d1-9f86-49cb-859f-d09044c87eec",
   "metadata": {
    "tags": []
   },
   "outputs": [],
   "source": [
    "import json as json\n",
    "#load data using python json module\n",
    "with open('nested.json', 'r') as f:\n",
    "    data = json.loads(f.read())\n",
    "    \n",
    "#Normalizing data\n",
    "nested_json_data = pd.json_normalize(data,meta = ['Scaler','family_min_samples_percentage','original_number_of_clusters'],\n",
    "                                     record_path = ['Results'],\n",
    "                                     record_prefix = '_', meta_prefix = '')\n",
    "#saving to csv format\n",
    "nested_json_data.to_csv('nested_json_data.csv',index = False)\n",
    "nested_json_data.to_excel('nested_json_data.xlsx', index = False)"
   ]
  },
  {
   "cell_type": "code",
   "execution_count": null,
   "id": "8ac09938-06de-4392-a3b5-0a8b84cf0de3",
   "metadata": {},
   "outputs": [],
   "source": []
  }
 ],
 "metadata": {
  "kernelspec": {
   "display_name": "Python 3 (ipykernel)",
   "language": "python",
   "name": "python3"
  },
  "language_info": {
   "codemirror_mode": {
    "name": "ipython",
    "version": 3
   },
   "file_extension": ".py",
   "mimetype": "text/x-python",
   "name": "python",
   "nbconvert_exporter": "python",
   "pygments_lexer": "ipython3",
   "version": "3.10.10"
  },
  "toc-showtags": false
 },
 "nbformat": 4,
 "nbformat_minor": 5
}
